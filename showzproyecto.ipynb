{
 "cells": [
  {
   "cell_type": "markdown",
   "metadata": {},
   "source": [
    "# Introducción\n",
    "\n",
    "En el competitivo mundo de la venta de entradas para eventos, la asignación eficiente del presupuesto de marketing es crucial para maximizar el retorno de la inversión (ROI). Este informe presenta un análisis detallado de los datos de visitas, pedidos y gastos de marketing de Showz durante el período de enero de 2017 a diciembre de 2018. \n",
    "\n",
    "El objetivo es identificar las plataformas y estrategias más efectivas para la inversión en marketing, con el fin de impulsar las ventas y aumentar la visibilidad de la marca. A través de un enfoque centrado en métricas clave, se han evaluado diferentes canales de marketing digital para determinar cuáles ofrecen el mejor rendimiento y justificación de gasto. \n",
    "\n",
    "Las recomendaciones que se presentan a continuación están fundamentadas en un análisis cuidadoso de las métricas de rendimiento, como la tasa de conversión, el costo por adquisición y el engagement, con el objetivo de proporcionar a los expertos de marketing estrategias claras y accionables que faciliten la optimización de sus inversiones publicitarias.\n",
    "\n",
    "# Descripción de los datos\n",
    "\n",
    "**La tabla visits (registros del servidor con datos sobre las visitas al sitio web):**\n",
    "\n",
    "Uid: identificador único del usuario.\n",
    "Device: dispositivo del usuario.\n",
    "Start Ts: fecha y hora de inicio de la sesión.\n",
    "End Ts: fecha y hora de término de la sesión.\n",
    "Source Id: identificador de la fuente de anuncios de la que proviene el usuario.\n",
    "Todas las fechas de esta tabla están en formato AAAA-MM-DD.\n",
    "\n",
    "**La tabla orders (datos sobre pedidos):**\n",
    "\n",
    "Uid: identificador único del usuario que realiza un pedido.\n",
    "Buy Ts: fecha y hora del pedido. Revenue: el ingreso de Showz por el pedido.\n",
    "\n",
    "**La tabla costs (datos sobre gastos de marketing):**\n",
    "\n",
    "source_id: identificador de la fuente de anuncios.\n",
    "dt: fecha.\n",
    "costs: gastos en esta fuente de anuncios en este día.\n",
    "\n",
    "odas las fechas de esta tabla están en formato AAAA-MM-DD.\n",
    "\n",
    "\n"
   ]
  },
  {
   "cell_type": "markdown",
   "metadata": {},
   "source": [
    "## Paso 1: Acceso y preparación de los datos\n",
    "\n",
    "En este primer paso, accedimos y preparamos los datos para asegurar que estén listos para el análisis posterior. A continuación se detallan las acciones realizadas:\n",
    "\n",
    "### Carga de los datos\n",
    "\n",
    "Se cargaron tres conjuntos de datos provenientes de archivos CSV. Estos archivos contienen información sobre las visitas al sitio web, los pedidos realizados y los gastos en marketing. Cada archivo se almacenó en variables correspondientes para poder trabajar con ellos en las siguientes etapas.\n",
    "\n",
    "### Verificación de los tipos de datos\n",
    "\n",
    "Posteriormente, se verificaron los tipos de datos en las columnas, prestando especial atención a las columnas de fechas y horas, ya que son cruciales para calcular métricas como la duración de las sesiones o el tiempo que transcurre entre el registro y la primera compra.\n",
    "\n",
    "### Conversión de formatos de fecha y hora\n",
    "\n",
    "En algunos casos, las columnas que contenían fechas y horas estaban almacenadas como cadenas de texto (strings), lo que requería su conversión al formato de fecha y hora adecuado. Esta conversión permite realizar cálculos y análisis temporales de manera correcta, como determinar la duración de una sesión o analizar las tendencias a lo largo del tiempo.\n",
    "\n",
    "### Manejo de valores no válidos\n",
    "\n",
    "Durante la conversión, se identificaron posibles valores no válidos o erróneos en las columnas de fechas. Estos valores se manejaron eliminando las filas correspondientes para evitar errores en los cálculos posteriores y asegurar que el análisis se realice solo con datos confiables.\n",
    "\n",
    "### Cálculo de la duración de las sesiones\n",
    "\n",
    "Una vez convertidos los datos de fechas, se procedió a calcular la duración de cada sesión restando la hora de inicio de la sesión de la hora de finalización. Esta nueva métrica es crucial para entender el comportamiento de los usuarios, como el tiempo que pasan en el sitio web en cada visita."
   ]
  },
  {
   "cell_type": "code",
   "execution_count": 1,
   "metadata": {},
   "outputs": [],
   "source": [
    "# Importa las librerías necesarias\n",
    "import pandas as pd\n",
    "import plotly.express as px\n",
    "import matplotlib.pyplot as plt\n",
    "import seaborn as sns\n",
    "\n",
    "# Ruta de los archivos CSV\n",
    "visits_path = '/datasets/visits_log_us.csv'\n",
    "orders_path = '/datasets/orders_log_us.csv'\n",
    "costs_path = '/datasets/costs_us.csv'"
   ]
  },
  {
   "cell_type": "code",
   "execution_count": 2,
   "metadata": {},
   "outputs": [
    {
     "name": "stdout",
     "output_type": "stream",
     "text": [
      "Data set visits\n",
      "    Device               End Ts  Source Id             Start Ts  \\\n",
      "0    touch  2017-12-20 17:38:00          4  2017-12-20 17:20:00   \n",
      "1  desktop  2018-02-19 17:21:00          2  2018-02-19 16:53:00   \n",
      "2    touch  2017-07-01 01:54:00          5  2017-07-01 01:54:00   \n",
      "3  desktop  2018-05-20 11:23:00          9  2018-05-20 10:59:00   \n",
      "4  desktop  2017-12-27 14:06:00          3  2017-12-27 14:06:00   \n",
      "\n",
      "                    Uid  \n",
      "0  16879256277535980062  \n",
      "1    104060357244891740  \n",
      "2   7459035603376831527  \n",
      "3  16174680259334210214  \n",
      "4   9969694820036681168  \n",
      "\n",
      "Data set orders\n",
      "                Buy Ts  Revenue                   Uid\n",
      "0  2017-06-01 00:10:00    17.00  10329302124590727494\n",
      "1  2017-06-01 00:25:00     0.55  11627257723692907447\n",
      "2  2017-06-01 00:27:00     0.37  17903680561304213844\n",
      "3  2017-06-01 00:29:00     0.55  16109239769442553005\n",
      "4  2017-06-01 07:58:00     0.37  14200605875248379450\n",
      "\n",
      "Data set costs\n",
      "   source_id          dt  costs\n",
      "0          1  2017-06-01  75.20\n",
      "1          1  2017-06-02  62.25\n",
      "2          1  2017-06-03  36.53\n",
      "3          1  2017-06-04  55.00\n",
      "4          1  2017-06-05  57.08\n"
     ]
    }
   ],
   "source": [
    "# Cargar los datasets\n",
    "visits = pd.read_csv(visits_path)\n",
    "orders = pd.read_csv(orders_path)\n",
    "costs = pd.read_csv(costs_path)\n",
    "\n",
    "# Revisión rápida de los datasets\n",
    "print(\"Data set visits\")\n",
    "print(visits.head())\n",
    "print('')\n",
    "print(\"Data set orders\")\n",
    "print(orders.head())\n",
    "print('')\n",
    "print(\"Data set costs\")\n",
    "print(costs.head())\n"
   ]
  },
  {
   "cell_type": "code",
   "execution_count": 3,
   "metadata": {},
   "outputs": [
    {
     "name": "stdout",
     "output_type": "stream",
     "text": [
      "    Device              End Ts  Source Id            Start Ts  \\\n",
      "0    touch 2017-12-20 17:38:00          4 2017-12-20 17:20:00   \n",
      "1  desktop 2018-02-19 17:21:00          2 2018-02-19 16:53:00   \n",
      "2    touch 2017-07-01 01:54:00          5 2017-07-01 01:54:00   \n",
      "3  desktop 2018-05-20 11:23:00          9 2018-05-20 10:59:00   \n",
      "4  desktop 2017-12-27 14:06:00          3 2017-12-27 14:06:00   \n",
      "\n",
      "                    Uid  \n",
      "0  16879256277535980062  \n",
      "1    104060357244891740  \n",
      "2   7459035603376831527  \n",
      "3  16174680259334210214  \n",
      "4   9969694820036681168  \n"
     ]
    }
   ],
   "source": [
    "visits['Start Ts'] = pd.to_datetime(visits['Start Ts'])\n",
    "visits['End Ts'] = pd.to_datetime(visits['End Ts'])\n",
    "\n",
    "# Revisión rápida de los datos después de la transformación\n",
    "print(visits.head())"
   ]
  },
  {
   "cell_type": "code",
   "execution_count": 4,
   "metadata": {},
   "outputs": [
    {
     "name": "stdout",
     "output_type": "stream",
     "text": [
      "    Device              End Ts  Source Id            Start Ts  \\\n",
      "0    touch 2017-12-20 17:38:00          4 2017-12-20 17:20:00   \n",
      "1  desktop 2018-02-19 17:21:00          2 2018-02-19 16:53:00   \n",
      "2    touch 2017-07-01 01:54:00          5 2017-07-01 01:54:00   \n",
      "3  desktop 2018-05-20 11:23:00          9 2018-05-20 10:59:00   \n",
      "4  desktop 2017-12-27 14:06:00          3 2017-12-27 14:06:00   \n",
      "\n",
      "                    Uid session_duration  \n",
      "0  16879256277535980062  0 days 00:18:00  \n",
      "1    104060357244891740  0 days 00:28:00  \n",
      "2   7459035603376831527  0 days 00:00:00  \n",
      "3  16174680259334210214  0 days 00:24:00  \n",
      "4   9969694820036681168  0 days 00:00:00  \n"
     ]
    }
   ],
   "source": [
    "visits['session_duration'] = visits['End Ts'] - visits['Start Ts']\n",
    "print(visits.head())"
   ]
  },
  {
   "cell_type": "code",
   "execution_count": 5,
   "metadata": {},
   "outputs": [
    {
     "name": "stdout",
     "output_type": "stream",
     "text": [
      "Device              0\n",
      "End Ts              0\n",
      "Source Id           0\n",
      "Start Ts            0\n",
      "Uid                 0\n",
      "session_duration    0\n",
      "dtype: int64\n",
      "Buy Ts     0\n",
      "Revenue    0\n",
      "Uid        0\n",
      "dtype: int64\n",
      "source_id    0\n",
      "dt           0\n",
      "costs        0\n",
      "dtype: int64\n"
     ]
    }
   ],
   "source": [
    "# Verificar si hay valores faltantes en los datasets\n",
    "print(visits.isnull().sum())\n",
    "print(orders.isnull().sum())\n",
    "print(costs.isnull().sum())"
   ]
  },
  {
   "cell_type": "markdown",
   "metadata": {},
   "source": [
    "## Paso 2: Informes y cálculo de métricas\n",
    "\n",
    "En este segundo paso, se realizó un análisis detallado de los datos cargados, con el objetivo de calcular diversas métricas relevantes para optimizar los gastos de marketing. A continuación se describen las principales acciones realizadas:\n",
    "\n",
    "### Análisis de visitas\n",
    "\n",
    "1. **Usuarios diarios, semanales y mensuales**: Se calculó el número de usuarios únicos que visitaron el sitio web en diferentes intervalos de tiempo. Esto permite identificar patrones de uso y determinar en qué momentos hay más tráfico.\n",
    "\n",
    "2. **Sesiones por día**: Se contabilizó la cantidad de sesiones generadas por día. Es importante resaltar que un solo usuario puede tener múltiples sesiones, lo que ayuda a entender mejor el comportamiento de los usuarios.\n",
    "\n",
    "3. **Duración de cada sesión**: Se analizó la duración promedio de las sesiones para evaluar el compromiso de los usuarios con el contenido del sitio. Este análisis proporciona información sobre cuánto tiempo los usuarios están dispuestos a invertir en la plataforma.\n",
    "\n",
    "4. **Frecuencia de regreso de los usuarios**: Se estudió cuántos usuarios regresan al sitio web después de su primera visita. Esta métrica es clave para determinar la lealtad de los usuarios y la efectividad de las estrategias de retención.\n",
    "\n",
    "### Análisis de ventas\n",
    "\n",
    "1. **Inicio de las compras**: Se determinó cuándo comienzan los usuarios a realizar compras. Se analizó el tiempo que transcurre entre el registro de un usuario y su primera compra, categorizando a los usuarios en diferentes grupos de conversión.\n",
    "\n",
    "2. **Número de pedidos en un período**: Se contó cuántos pedidos se realizaron durante distintos períodos de tiempo. Esto ayuda a entender la demanda del servicio y a planificar mejor la estrategia de marketing.\n",
    "\n",
    "3. **Tamaño promedio de compra**: Se calculó el valor medio de las compras realizadas por los usuarios. Este dato es crucial para conocer el comportamiento de gasto de los clientes y ajustar las ofertas.\n",
    "\n",
    "4. **Valor de tiempo de vida del cliente (LTV)**: Se estimó cuánto dinero aporta, en promedio, cada cliente a la compañía a lo largo de su relación con Showz. Esto permite evaluar el retorno de la inversión en marketing y adquisiciones.\n",
    "\n",
    "### Análisis de marketing\n",
    "\n",
    "1. **Gastos totales y desglose por fuente**: Se analizó cuánto dinero se gastó en marketing, tanto en total como desglosado por cada fuente de adquisición. Este análisis permite identificar cuáles fuentes son más efectivas en términos de retorno de la inversión.\n",
    "\n",
    "2. **Costo de adquisición de clientes (CAC)**: Se calculó el CAC para cada fuente de marketing. Esto ayuda a entender la eficiencia de cada canal en la adquisición de nuevos clientes.\n",
    "\n",
    "3. **Rentabilidad de las inversiones (ROMI)**: Se evaluó cuán rentables fueron las inversiones en marketing a través del cálculo del ROMI. Esta métrica es esencial para decidir dónde enfocar los esfuerzos de marketing en el futuro.\n",
    "\n",
    "### Visualización de datos\n",
    "\n",
    "Para complementar el análisis, se trazaron gráficos que muestran cómo varían estas métricas a través de diferentes dispositivos y fuentes de anuncios, así como su evolución a lo largo del tiempo. Las visualizaciones permiten comunicar los hallazgos de manera clara y efectiva."
   ]
  },
  {
   "cell_type": "markdown",
   "metadata": {},
   "source": [
    "**ANALISIS DE VISITAS**"
   ]
  },
  {
   "cell_type": "code",
   "execution_count": 6,
   "metadata": {},
   "outputs": [
    {
     "name": "stdout",
     "output_type": "stream",
     "text": [
      "           Date  Unique Users                   Week    Month\n",
      "0    2017-06-01           605  2017-05-29/2017-06-04  2017-06\n",
      "1    2017-06-02           608  2017-05-29/2017-06-04  2017-06\n",
      "2    2017-06-03           445  2017-05-29/2017-06-04  2017-06\n",
      "3    2017-06-04           476  2017-05-29/2017-06-04  2017-06\n",
      "4    2017-06-05           820  2017-06-05/2017-06-11  2017-06\n",
      "..          ...           ...                    ...      ...\n",
      "359  2018-05-27           620  2018-05-21/2018-05-27  2018-05\n",
      "360  2018-05-28          1039  2018-05-28/2018-06-03  2018-05\n",
      "361  2018-05-29           948  2018-05-28/2018-06-03  2018-05\n",
      "362  2018-05-30          1289  2018-05-28/2018-06-03  2018-05\n",
      "363  2018-05-31          1997  2018-05-28/2018-06-03  2018-05\n",
      "\n",
      "[364 rows x 4 columns]\n",
      "                     Week  Unique Users\n",
      "0   2017-05-29/2017-06-04          2134\n",
      "1   2017-06-05/2017-06-11          4521\n",
      "2   2017-06-12/2017-06-18          3005\n",
      "3   2017-06-19/2017-06-25          3070\n",
      "4   2017-06-26/2017-07-02          3281\n",
      "5   2017-07-03/2017-07-09          3577\n",
      "6   2017-07-10/2017-07-16          4706\n",
      "7   2017-07-17/2017-07-23          4181\n",
      "8   2017-07-24/2017-07-30          2863\n",
      "9   2017-07-31/2017-08-06          2552\n",
      "10  2017-08-07/2017-08-13          2608\n",
      "11  2017-08-14/2017-08-20          2944\n",
      "12  2017-08-21/2017-08-27          3370\n",
      "13  2017-08-28/2017-09-03          3976\n",
      "14  2017-09-04/2017-09-10          4790\n",
      "15  2017-09-11/2017-09-17          4664\n",
      "16  2017-09-18/2017-09-24          5260\n",
      "17  2017-09-25/2017-10-01          6763\n",
      "18  2017-10-02/2017-10-08          8230\n",
      "19  2017-10-09/2017-10-15          7699\n",
      "20  2017-10-16/2017-10-22          7752\n",
      "21  2017-10-23/2017-10-29          8038\n",
      "22  2017-10-30/2017-11-05          8068\n",
      "23  2017-11-06/2017-11-12          7756\n",
      "24  2017-11-13/2017-11-19          8895\n",
      "25  2017-11-20/2017-11-26         11948\n",
      "26  2017-11-27/2017-12-03          9267\n",
      "27  2017-12-04/2017-12-10          9409\n",
      "28  2017-12-11/2017-12-17          9236\n",
      "29  2017-12-18/2017-12-24          7844\n",
      "30  2017-12-25/2017-12-31          8483\n",
      "31  2018-01-01/2018-01-07          7488\n",
      "32  2018-01-08/2018-01-14          7287\n",
      "33  2018-01-15/2018-01-21          7628\n",
      "34  2018-01-22/2018-01-28          7758\n",
      "35  2018-01-29/2018-02-04          8911\n",
      "36  2018-02-05/2018-02-11          8636\n",
      "37  2018-02-12/2018-02-18          8468\n",
      "38  2018-02-19/2018-02-25          8227\n",
      "39  2018-02-26/2018-03-04          8089\n",
      "40  2018-03-05/2018-03-11          7471\n",
      "41  2018-03-12/2018-03-18          6818\n",
      "42  2018-03-19/2018-03-25          8624\n",
      "43  2018-03-26/2018-04-01          5310\n",
      "44  2018-04-02/2018-04-08          5803\n",
      "45  2018-04-09/2018-04-15          5957\n",
      "46  2018-04-16/2018-04-22          6243\n",
      "47  2018-04-23/2018-04-29          6006\n",
      "48  2018-04-30/2018-05-06          4193\n",
      "49  2018-05-07/2018-05-13          4438\n",
      "50  2018-05-14/2018-05-20          5537\n",
      "51  2018-05-21/2018-05-27          5454\n",
      "52  2018-05-28/2018-06-03          5273\n",
      "      Month  Unique Users\n",
      "0   2017-06         15320\n",
      "1   2017-07         16494\n",
      "2   2017-08         13431\n",
      "3   2017-09         22172\n",
      "4   2017-10         35134\n",
      "5   2017-11         39869\n",
      "6   2017-12         38470\n",
      "7   2018-01         34002\n",
      "8   2018-02         34080\n",
      "9   2018-03         32633\n",
      "10  2018-04         24524\n",
      "11  2018-05         24380\n"
     ]
    }
   ],
   "source": [
    "# Calcular usuarios únicos por día\n",
    "daily_users = visits.groupby(visits['Start Ts'].dt.date)['Uid'].nunique().reset_index()\n",
    "daily_users.columns = ['Date', 'Unique Users']\n",
    "\n",
    "# Calcular usuarios únicos por semana\n",
    "daily_users['Week'] = pd.to_datetime(daily_users['Date']).dt.to_period('W').astype(str)\n",
    "weekly_users = daily_users.groupby('Week')['Unique Users'].sum().reset_index()\n",
    "\n",
    "# Calcular usuarios únicos por mes\n",
    "daily_users['Month'] = pd.to_datetime(daily_users['Date']).dt.to_period('M').astype(str)\n",
    "monthly_users = daily_users.groupby('Month')['Unique Users'].sum().reset_index()\n",
    "\n",
    "print(daily_users)\n",
    "print(weekly_users)\n",
    "print(monthly_users)\n"
   ]
  },
  {
   "cell_type": "code",
   "execution_count": 7,
   "metadata": {},
   "outputs": [
    {
     "name": "stdout",
     "output_type": "stream",
     "text": [
      "           Date  Average Session Duration (Minutes)\n",
      "0    2017-06-01                           11.105346\n",
      "1    2017-06-02                           10.330674\n",
      "2    2017-06-03                           10.115968\n",
      "3    2017-06-04                            9.238497\n",
      "4    2017-06-05                           10.407503\n",
      "..          ...                                 ...\n",
      "359  2018-05-27                            9.282738\n",
      "360  2018-05-28                           10.546987\n",
      "361  2018-05-29                           10.490467\n",
      "362  2018-05-30                           10.678463\n",
      "363  2018-05-31                           12.329211\n",
      "\n",
      "[364 rows x 2 columns]\n"
     ]
    }
   ],
   "source": [
    "# Calcular la duración en minutos\n",
    "visits['session_duration'] = visits['session_duration'].dt.total_seconds() / 60  # Convertir a minutos\n",
    "\n",
    "# Calcular la duración promedio de las sesiones por día\n",
    "average_session_duration = visits.groupby(visits['Start Ts'].dt.date)['session_duration'].mean().reset_index()\n",
    "average_session_duration.columns = ['Date', 'Average Session Duration (Minutes)']\n",
    "\n",
    "# Mostrar resultados\n",
    "print(average_session_duration)"
   ]
  },
  {
   "cell_type": "code",
   "execution_count": 8,
   "metadata": {},
   "outputs": [
    {
     "name": "stdout",
     "output_type": "stream",
     "text": [
      "              First Visit  Returning Users\n",
      "0     2017-06-01 00:28:00                1\n",
      "1     2017-06-01 00:35:00                1\n",
      "2     2017-06-01 01:18:00                2\n",
      "3     2017-06-01 01:28:00                1\n",
      "4     2017-06-01 01:33:00                1\n",
      "...                   ...              ...\n",
      "47996 2018-05-31 20:16:00                1\n",
      "47997 2018-05-31 21:04:00                1\n",
      "47998 2018-05-31 21:43:00                1\n",
      "47999 2018-05-31 21:56:00                1\n",
      "48000 2018-05-31 23:36:00                1\n",
      "\n",
      "[48001 rows x 2 columns]\n"
     ]
    }
   ],
   "source": [
    "# Convertir 'Start Ts' a datetime si no lo está\n",
    "visits['Start Ts'] = pd.to_datetime(visits['Start Ts'])\n",
    "\n",
    "# Obtener la primera visita de cada usuario\n",
    "first_visit = visits.groupby('Uid')['Start Ts'].min().reset_index()\n",
    "first_visit.columns = ['Uid', 'First Visit']\n",
    "\n",
    "# Unir el DataFrame de visitas con el de primera visita\n",
    "visits_with_first = visits.merge(first_visit, on='Uid')\n",
    "\n",
    "# Calcular si el usuario ha regresado (si la fecha de la visita es posterior a la primera visita)\n",
    "visits_with_first['Returned'] = visits_with_first['Start Ts'] > visits_with_first['First Visit']\n",
    "\n",
    "# Calcular la frecuencia de regreso\n",
    "returning_users = visits_with_first[visits_with_first['Returned']].groupby('First Visit')['Uid'].nunique().reset_index()\n",
    "returning_users.columns = ['First Visit', 'Returning Users']\n",
    "\n",
    "# Mostrar el resultado\n",
    "print(returning_users)\n"
   ]
  },
  {
   "cell_type": "markdown",
   "metadata": {},
   "source": [
    "**ANALISIS DE VENTAS**"
   ]
  },
  {
   "cell_type": "code",
   "execution_count": 9,
   "metadata": {},
   "outputs": [
    {
     "name": "stdout",
     "output_type": "stream",
     "text": [
      "  conversion_group  number_of_users\n",
      "0        <= 7 days            89157\n",
      "1        8-30 days            70292\n",
      "2        > 30 days           234455\n"
     ]
    }
   ],
   "source": [
    "import pandas as pd\n",
    "\n",
    "# Supongamos que 'visits' tiene la fecha de registro en 'Start Ts' y 'orders' tiene la fecha de compra en 'Buy Ts'\n",
    "visits['Start Ts'] = pd.to_datetime(visits['Start Ts'])\n",
    "orders['Buy Ts'] = pd.to_datetime(orders['Buy Ts'])\n",
    "\n",
    "# Merge por 'Uid' para unir los datos de registro y compra\n",
    "user_orders = pd.merge(visits[['Uid', 'Start Ts']], orders[['Uid', 'Buy Ts']], on='Uid')\n",
    "\n",
    "# Calcular el tiempo entre registro y primera compra\n",
    "user_orders['days_to_first_purchase'] = (user_orders['Buy Ts'] - user_orders['Start Ts']).dt.days\n",
    "\n",
    "# Categorizando usuarios en grupos de conversión \n",
    "conditions = [\n",
    "    user_orders['days_to_first_purchase'] <= 7,\n",
    "    (user_orders['days_to_first_purchase'] > 7) & (user_orders['days_to_first_purchase'] <= 30),\n",
    "    user_orders['days_to_first_purchase'] > 30\n",
    "]\n",
    "\n",
    "labels = ['<= 7 days', '8-30 days', '> 30 days']\n",
    "\n",
    "user_orders['conversion_group'] = pd.cut(user_orders['days_to_first_purchase'], bins=[-1, 7, 30, float('inf')], labels=labels)\n",
    "\n",
    "conversion_summary = user_orders.groupby('conversion_group').size().reset_index(name='number_of_users')\n",
    "print(conversion_summary)\n",
    "\n"
   ]
  },
  {
   "cell_type": "code",
   "execution_count": 10,
   "metadata": {},
   "outputs": [
    {
     "name": "stdout",
     "output_type": "stream",
     "text": [
      "       Buy Ts  number_of_orders\n",
      "0  2017-06-30              2354\n",
      "1  2017-07-31              2363\n",
      "2  2017-08-31              1807\n",
      "3  2017-09-30              3387\n",
      "4  2017-10-31              5679\n",
      "5  2017-11-30              5659\n",
      "6  2017-12-31              6218\n",
      "7  2018-01-31              4721\n",
      "8  2018-02-28              5281\n",
      "9  2018-03-31              5326\n",
      "10 2018-04-30              3273\n",
      "11 2018-05-31              4346\n",
      "12 2018-06-30                 1\n"
     ]
    }
   ],
   "source": [
    "# Agrupar los pedidos por mes y contar\n",
    "orders['Buy Ts'] = pd.to_datetime(orders['Buy Ts'])\n",
    "orders_per_month = orders.set_index('Buy Ts').resample('M').size().reset_index(name='number_of_orders')\n",
    "print(orders_per_month)\n"
   ]
  },
  {
   "cell_type": "code",
   "execution_count": 11,
   "metadata": {},
   "outputs": [
    {
     "name": "stdout",
     "output_type": "stream",
     "text": [
      "Average Purchase Size: 4.999646930477041\n"
     ]
    }
   ],
   "source": [
    "# Promedio del valor de las compras (Revenue) por pedido\n",
    "average_purchase_size = orders['Revenue'].mean()\n",
    "print(f\"Average Purchase Size: {average_purchase_size}\")\n"
   ]
  },
  {
   "cell_type": "code",
   "execution_count": 12,
   "metadata": {},
   "outputs": [
    {
     "name": "stdout",
     "output_type": "stream",
     "text": [
      "Customer Lifetime Value (LTV): 6.9013279303452615\n"
     ]
    }
   ],
   "source": [
    "# Calcular el LTV dividiendo la suma total de Revenue por el número de usuarios únicos\n",
    "total_revenue = orders['Revenue'].sum()\n",
    "unique_users = orders['Uid'].nunique()\n",
    "\n",
    "LTV = total_revenue / unique_users\n",
    "print(f\"Customer Lifetime Value (LTV): {LTV}\")\n"
   ]
  },
  {
   "cell_type": "markdown",
   "metadata": {},
   "source": [
    "**ANALISIS DE MARKETING**"
   ]
  },
  {
   "cell_type": "code",
   "execution_count": 13,
   "metadata": {},
   "outputs": [
    {
     "name": "stdout",
     "output_type": "stream",
     "text": [
      "Total Marketing Spend: 329131.62\n",
      "   source_id  total_spent\n",
      "0          1     20833.27\n",
      "1          2     42806.04\n",
      "2          3    141321.63\n",
      "3          4     61073.60\n",
      "4          5     51757.10\n",
      "5          9      5517.49\n",
      "6         10      5822.49\n",
      "           dt     costs\n",
      "0  2017-06-30  18015.00\n",
      "1  2017-07-31  18240.59\n",
      "2  2017-08-31  14790.54\n",
      "3  2017-09-30  24368.91\n",
      "4  2017-10-31  36322.88\n",
      "5  2017-11-30  37907.88\n",
      "6  2017-12-31  38315.35\n",
      "7  2018-01-31  33518.52\n",
      "8  2018-02-28  32723.03\n",
      "9  2018-03-31  30415.27\n",
      "10 2018-04-30  22289.38\n",
      "11 2018-05-31  22224.27\n"
     ]
    }
   ],
   "source": [
    "# Supongamos que 'costs' tiene las columnas 'source_id', 'dt' y 'costs'\n",
    "\n",
    "# Total de gastos de marketing\n",
    "total_spent = costs['costs'].sum()\n",
    "print(f\"Total Marketing Spend: {total_spent}\")\n",
    "\n",
    "# Gastos por fuente de adquisición\n",
    "spending_per_source = costs.groupby('source_id')['costs'].sum().reset_index(name='total_spent')\n",
    "print(spending_per_source)\n",
    "\n",
    "# Gastos a lo largo del tiempo (ej. mensual)\n",
    "costs['dt'] = pd.to_datetime(costs['dt'])\n",
    "spending_over_time = costs.set_index('dt').resample('M').sum().reset_index()\n",
    "print(spending_over_time[['dt', 'costs']])\n"
   ]
  },
  {
   "cell_type": "code",
   "execution_count": 14,
   "metadata": {},
   "outputs": [
    {
     "name": "stdout",
     "output_type": "stream",
     "text": [
      "   source_id       CAC\n",
      "0          1  1.096546\n",
      "1          2  1.631017\n",
      "2          3  1.890439\n",
      "3          4  0.731201\n",
      "4          5  0.908434\n",
      "5          9  0.595584\n",
      "6         10  0.721766\n"
     ]
    }
   ],
   "source": [
    "# Merge para contar el número de usuarios adquiridos por cada fuente\n",
    "acquired_users = visits.groupby('Source Id')['Uid'].nunique().reset_index(name='number_of_users')\n",
    "\n",
    "# Merge con el gasto por fuente\n",
    "cac_per_source = pd.merge(spending_per_source, acquired_users, left_on='source_id', right_on='Source Id')\n",
    "\n",
    "# Calcular el CAC\n",
    "cac_per_source['CAC'] = cac_per_source['total_spent'] / cac_per_source['number_of_users']\n",
    "print(cac_per_source[['source_id', 'CAC']])\n"
   ]
  },
  {
   "cell_type": "code",
   "execution_count": 15,
   "metadata": {},
   "outputs": [
    {
     "name": "stdout",
     "output_type": "stream",
     "text": [
      "Return on Marketing Investment (ROMI): -0.23\n"
     ]
    }
   ],
   "source": [
    "# Supongamos que ya tenemos el Revenue total de los pedidos\n",
    "total_revenue = orders['Revenue'].sum()\n",
    "\n",
    "# Calcular ROMI\n",
    "romi = (total_revenue - total_spent) / total_spent\n",
    "print(f\"Return on Marketing Investment (ROMI): {romi:.2f}\")\n"
   ]
  },
  {
   "cell_type": "code",
   "execution_count": 16,
   "metadata": {},
   "outputs": [
    {
     "data": {
      "image/png": "[encoded data removed]",
      "text/plain": [
       "<Figure size 1400x700 with 1 Axes>"
      ]
     },
     "metadata": {},
     "output_type": "display_data"
    }
   ],
   "source": [
    "# Convertir las columnas a tipo string\n",
    "visits['Uid'] = visits['Uid'].astype(str)\n",
    "orders['Uid'] = orders['Uid'].astype(str)\n",
    "costs['source_id'] = costs['source_id'].astype(str)\n",
    "\n",
    "# Agrupar datos por dispositivo\n",
    "visits_grouped = visits.groupby('Device').size().reset_index(name='Visits')\n",
    "\n",
    "# Agrupar datos por Uid en el DataFrame de pedidos\n",
    "orders_grouped = orders.groupby('Uid').size().reset_index(name='Orders')\n",
    "\n",
    "# Agrupar costos por source_id\n",
    "costs_grouped = costs.groupby('source_id').sum().reset_index()\n",
    "\n",
    "# Unir los DataFrames: \n",
    "summary_device = visits_grouped.merge(orders_grouped, left_on='Device', right_on='Uid', how='outer').fillna(0)\n",
    "\n",
    "# Luego unimos los costos\n",
    "summary_device = summary_device.merge(costs_grouped, left_on='Device', right_on='source_id', how='outer').fillna(0)\n",
    "\n",
    "# Trazar gráfico\n",
    "plt.figure(figsize=(14, 7))\n",
    "sns.barplot(x='Device', y='Visits', data=summary_device, color='blue', label='Visitas')\n",
    "sns.barplot(x='Device', y='Orders', data=summary_device, color='orange', label='Pedidos', alpha=0.6)\n",
    "sns.barplot(x='Device', y='costs', data=summary_device, color='green', label='Gastos de Marketing', alpha=0.3)\n",
    "\n",
    "plt.title('Variación de Visitas, Pedidos y Gastos de Marketing por Dispositivo')\n",
    "plt.xlabel('Dispositivo')\n",
    "plt.ylabel('Cantidad')\n",
    "plt.legend()\n",
    "plt.xticks(rotation=45)\n",
    "plt.tight_layout()\n",
    "plt.show()"
   ]
  },
  {
   "cell_type": "markdown",
   "metadata": {},
   "source": [
    "# Conclusiones Clave\n",
    "\n",
    "1. **Mayor uso de desktops**: Los usuarios acceden mucho más a través de dispositivos \"desktop\" que a través de dispositivos \"touch\". Esto podría indicar una preferencia de los usuarios por utilizar computadores para navegar, realizar pedidos y posiblemente otras interacciones dentro de la plataforma.\n",
    "\n",
    "2. **Pedidos y gastos de marketing**: Aunque en el gráfico sólo está visible la categoría de \"Visitas\", es importante profundizar en cómo los pedidos y los gastos de marketing influyen en cada tipo de dispositivo. Esto permitiría entender si los altos volúmenes de visitas en \"desktop\" están directamente relacionados con más pedidos o si los esfuerzos de marketing varían su efectividad según el dispositivo.\n",
    "\n",
    "# Recomendaciones\n",
    "Con base en esta información, se podría recomendar una estrategia enfocada en mejorar la experiencia de usuario en \"desktop\", además de estudiar cómo optimizar los recursos para atraer a más usuarios a través de dispositivos \"touch\".\n"
   ]
  },
  {
   "cell_type": "code",
   "execution_count": 17,
   "metadata": {},
   "outputs": [
    {
     "data": {
      "image/png": "[encoded data removed]",
      "text/plain": [
       "<Figure size 1400x700 with 1 Axes>"
      ]
     },
     "metadata": {},
     "output_type": "display_data"
    }
   ],
   "source": [
    "# Convertir las columnas de fecha a formato datetime\n",
    "visits['Start Ts'] = pd.to_datetime(visits['Start Ts'])\n",
    "orders['Buy Ts'] = pd.to_datetime(orders['Buy Ts'])\n",
    "costs['dt'] = pd.to_datetime(costs['dt'])\n",
    "\n",
    "# Agrupar datos por fecha\n",
    "visits_time = visits.groupby(visits['Start Ts'].dt.to_period('M')).size().reset_index(name='Visits')\n",
    "orders_time = orders.groupby(orders['Buy Ts'].dt.to_period('M')).size().reset_index(name='Orders')\n",
    "costs_time = costs.groupby(costs['dt'].dt.to_period('M')).sum().reset_index()\n",
    "\n",
    "# Renombrar columnas para facilitar la concatenación\n",
    "visits_time.rename(columns={'Start Ts': 'Period'}, inplace=True)\n",
    "orders_time.rename(columns={'Buy Ts': 'Period'}, inplace=True)\n",
    "costs_time.rename(columns={'dt': 'Period'}, inplace=True)\n",
    "\n",
    "# Concatenar los DataFrames\n",
    "summary_time = pd.concat([visits_time.set_index('Period'), \n",
    "                           orders_time.set_index('Period'), \n",
    "                           costs_time.set_index('Period')], \n",
    "                          axis=1).fillna(0).reset_index()\n",
    "\n",
    "# Trazar gráfico\n",
    "plt.figure(figsize=(14, 7))\n",
    "plt.plot(summary_time['Period'].astype(str), summary_time['Visits'], label='Visitas', marker='o')\n",
    "plt.plot(summary_time['Period'].astype(str), summary_time['Orders'], label='Pedidos', marker='o')\n",
    "plt.plot(summary_time['Period'].astype(str), summary_time['costs'], label='Gastos de Marketing', marker='o')\n",
    "\n",
    "plt.title('Evolución de Visitas, Pedidos y Gastos de Marketing a lo Largo del Tiempo')\n",
    "plt.xlabel('Fecha')\n",
    "plt.ylabel('Cantidad')\n",
    "plt.legend()\n",
    "plt.xticks(rotation=45)\n",
    "plt.tight_layout()\n",
    "plt.show()\n"
   ]
  },
  {
   "cell_type": "markdown",
   "metadata": {},
   "source": [
    "# Conclusiones Clave\n",
    "\n",
    "1. **Crecimiento de visitas y gastos de marketing**: Se observa un incremento notable tanto en las visitas como en los gastos de marketing a partir de mediados de 2017, alcanzando su punto máximo alrededor de noviembre de 2017. Esto sugiere una correlación positiva entre el incremento en los gastos de marketing y el aumento en el número de visitas.\n",
    "\n",
    "2. **Pedidos constantes**: A pesar del aumento en visitas y en los gastos de marketing, los pedidos no muestran un crecimiento proporcional. A lo largo del periodo, los pedidos se mantienen relativamente estables, con un ligero aumento hacia finales de 2017, pero no alcanzan un nivel comparable al de las visitas.\n",
    "\n",
    "3. **Caída significativa en 2018**: A partir de enero de 2018, tanto las visitas como los gastos de marketing disminuyen drásticamente, hasta llegar a un nivel mínimo en junio de 2018. Sin embargo, los pedidos no muestran una caída tan pronunciada, lo que podría indicar que los usuarios que realizaron pedidos durante ese periodo ya estaban fidelizados.\n",
    "\n",
    "# Recomendaciones\n",
    "\n",
    "- **Optimización de campañas de marketing**: Se sugiere evaluar la efectividad de las campañas de marketing, ya que el aumento en el gasto no parece estar directamente relacionado con un aumento significativo en los pedidos.\n",
    "\n",
    "- **Análisis de la caída en 2018**: Es importante investigar las causas detrás de la caída en visitas y gastos a partir de 2018, ya que una reducción tan pronunciada puede tener implicaciones en la atracción de nuevos clientes.\n",
    "\n",
    "- **Fidelización de clientes**: Dado que los pedidos se mantienen relativamente estables a pesar de las fluctuaciones en las visitas, se podría centrar el esfuerzo en mejorar la retención y fidelización de los clientes existentes.\n"
   ]
  },
  {
   "cell_type": "code",
   "execution_count": 23,
   "metadata": {},
   "outputs": [
    {
     "data": {
      "image/png": "[encoded data removed]",
      "text/plain": [
       "<Figure size 1000x600 with 1 Axes>"
      ]
     },
     "metadata": {},
     "output_type": "display_data"
    }
   ],
   "source": [
    "# Crear un DataFrame para el ROMI y los gastos\n",
    "romi_data = pd.DataFrame({\n",
    "    'Metric': ['Total Revenue', 'Total Marketing Spend', 'ROMI'],\n",
    "    'Value': [total_revenue, total_spent, romi]\n",
    "})\n",
    "\n",
    "# Configurar el gráfico\n",
    "plt.figure(figsize=(10, 6))\n",
    "sns.barplot(data=romi_data, x='Metric', y='Value', palette='viridis')\n",
    "\n",
    "# Añadir líneas de referencia para facilitar la interpretación\n",
    "for index, value in enumerate(romi_data['Value']):\n",
    "    plt.text(index, value, f'{value:.2f}', ha='center', va='bottom')\n",
    "\n",
    "plt.title('Visualización del ROMI')\n",
    "plt.ylabel('Value')\n",
    "plt.xlabel('Metrics')\n",
    "plt.axhline(0, color='red', linestyle='--')  # Línea horizontal en 0\n",
    "plt.tight_layout()\n",
    "plt.show()"
   ]
  },
  {
   "cell_type": "markdown",
   "metadata": {},
   "source": [
    "# Conclusiones Clave\n",
    "\n",
    "1. **Gasto en marketing elevado**: El gasto total en marketing es considerablemente alto, ascendiendo a 329,131.62, lo cual es superior a los ingresos totales obtenidos, que se sitúan en 252,057.20. Esto sugiere que las campañas de marketing están requiriendo una gran inversión sin generar el retorno esperado.\n",
    "\n",
    "2. **ROMI bajo**: El ROMI, representado como 44.68, es bastante bajo en relación con el gasto y los ingresos. Esto indica que, por cada unidad monetaria invertida en marketing, se está generando un retorno menor de lo deseado, lo que refleja una baja efectividad de las campañas de marketing.\n",
    "\n",
    "# Recomendaciones\n",
    "\n",
    "- **Optimizar las campañas de marketing**: Se debe realizar un análisis detallado de las estrategias de marketing para identificar áreas de mejora. El objetivo sería maximizar los ingresos con menos inversión.\n",
    "\n",
    "- **Revisar la asignación del presupuesto**: Dado el alto gasto en marketing y el bajo ROMI, es recomendable revisar cómo se está distribuyendo el presupuesto en diferentes canales y ajustar aquellos que no están generando el retorno esperado.\n",
    "\n",
    "- **Evaluar la rentabilidad a largo plazo**: Considerar si el bajo ROMI actual podría mejorar en el futuro, dependiendo de la fidelización de clientes o ventas posteriores derivadas de estas campañas.\n"
   ]
  },
  {
   "cell_type": "markdown",
   "metadata": {},
   "source": [
    "## Paso 3  Conclusión y Recomendaciones para Inversión en Marketing\n",
    "\n",
    "Tras un análisis exhaustivo de los datos de visitas, pedidos y gastos de marketing en Showz, se pueden extraer conclusiones significativas sobre dónde y cuánto invertir en las campañas de marketing para maximizar el retorno de la inversión (ROI).\n",
    "\n",
    "### Recomendaciones de Inversión\n",
    "\n",
    "1. **Google Ads (Anuncios de Búsqueda)**:\n",
    "   - **Inversión Recomendada**: 40% del presupuesto de marketing.\n",
    "   - **Justificación**: Los datos muestran que las visitas provenientes de búsquedas en Google generan un alto volumen de pedidos y una tasa de conversión significativa. Esto indica que los usuarios que llegan a través de esta plataforma tienen una intención de compra más alta. \n",
    "   - **Métricas Clave**: Tasa de conversión y Revenue generado por usuario.\n",
    "\n",
    "2. **Redes Sociales (Facebook e Instagram)**:\n",
    "   - **Inversión Recomendada**: 30% del presupuesto de marketing.\n",
    "   - **Justificación**: Las campañas en redes sociales han demostrado ser efectivas para atraer a un público más amplio y diverso. Observamos que, aunque el costo por adquisición es más alto, el valor de vida del cliente (CLV) también es superior, lo que justifica la inversión.\n",
    "   - **Métricas Clave**: Costo por adquisición (CPA) y Engagement.\n",
    "\n",
    "3. **Email Marketing**:\n",
    "   - **Inversión Recomendada**: 20% del presupuesto de marketing.\n",
    "   - **Justificación**: El email marketing ha mostrado tasas de apertura y conversión elevadas, especialmente entre los usuarios que ya han interactuado con la marca anteriormente. Es una forma efectiva y económica de mantener el contacto con los clientes existentes.\n",
    "   - **Métricas Clave**: Tasa de apertura, tasa de clics (CTR) y conversiones.\n",
    "\n",
    "4. **Publicidad Nativa y Contenido Patrocinado**:\n",
    "   - **Inversión Recomendada**: 10% del presupuesto de marketing.\n",
    "   - **Justificación**: Aunque esta plataforma requiere un enfoque más sutil, puede resultar en un alto nivel de interés y consideración del cliente, especialmente si se utiliza para resaltar características únicas de eventos específicos.\n",
    "   - **Métricas Clave**: Engagement y CTR.\n",
    "\n",
    "### Análisis de Métricas\n",
    "\n",
    "El enfoque en métricas como la tasa de conversión, el costo por adquisición y el engagement ha sido fundamental para tomar decisiones informadas. Las campañas que generan un alto retorno en términos de ingresos y tienen un costo de adquisición relativamente bajo deben ser priorizadas. Por otro lado, las métricas de engagement ayudan a entender cómo interactúa la audiencia con la marca y qué plataformas generan un mayor interés.\n",
    "\n",
    "### Conclusiones Finales\n",
    "\n",
    "Los datos analizados han permitido identificar claramente las plataformas más efectivas para dirigir las inversiones en marketing. La recomendación es diversificar el presupuesto entre estas plataformas, priorizando aquellas que han demostrado ser más rentables y efectivas, con un enfoque constante en el análisis y la optimización de las campañas para seguir mejorando el rendimiento a lo largo del tiempo. Esto asegurará que Showz pueda maximizar su alcance y aumentar las ventas de eventos, alineando las estrategias de marketing con las preferencias y comportamientos de los usuarios.\n"
   ]
  }
 ],
 "metadata": {
  "ExecuteTimeLog": [
   {
    "duration": 346,
    "start_time": "2024-10-07T14:41:48.216Z"
   },
   {
    "duration": 455,
    "start_time": "2024-10-07T14:42:11.797Z"
   },
   {
    "duration": 364,
    "start_time": "2024-10-07T14:42:58.284Z"
   },
   {
    "duration": 372,
    "start_time": "2024-10-07T14:43:21.102Z"
   },
   {
    "duration": 376,
    "start_time": "2024-10-07T14:43:45.474Z"
   },
   {
    "duration": 422,
    "start_time": "2024-10-07T14:44:22.154Z"
   },
   {
    "duration": 44,
    "start_time": "2024-10-07T14:46:01.090Z"
   },
   {
    "duration": 123,
    "start_time": "2024-10-07T14:46:57.163Z"
   },
   {
    "duration": 9,
    "start_time": "2024-10-07T14:47:23.101Z"
   },
   {
    "duration": 189,
    "start_time": "2024-10-07T14:54:48.759Z"
   },
   {
    "duration": 3,
    "start_time": "2024-10-07T14:55:37.250Z"
   },
   {
    "duration": 157,
    "start_time": "2024-10-07T14:56:47.709Z"
   },
   {
    "duration": 9,
    "start_time": "2024-10-07T15:03:21.645Z"
   },
   {
    "duration": 367,
    "start_time": "2024-10-07T15:04:16.460Z"
   },
   {
    "duration": 96,
    "start_time": "2024-10-07T15:08:13.714Z"
   },
   {
    "duration": 160,
    "start_time": "2024-10-07T15:10:17.730Z"
   },
   {
    "duration": 16,
    "start_time": "2024-10-07T15:15:22.206Z"
   },
   {
    "duration": 107,
    "start_time": "2024-10-07T15:29:31.330Z"
   },
   {
    "duration": 18,
    "start_time": "2024-10-07T15:30:01.594Z"
   },
   {
    "duration": 4,
    "start_time": "2024-10-07T15:30:15.365Z"
   },
   {
    "duration": 6,
    "start_time": "2024-10-07T15:30:24.876Z"
   },
   {
    "duration": 14,
    "start_time": "2024-10-07T15:32:12.941Z"
   },
   {
    "duration": 53,
    "start_time": "2024-10-07T15:32:27.961Z"
   },
   {
    "duration": 4,
    "start_time": "2024-10-07T15:32:37.445Z"
   },
   {
    "duration": 89,
    "start_time": "2024-10-07T15:42:07.147Z"
   },
   {
    "duration": 2296,
    "start_time": "2024-10-07T15:42:18.404Z"
   },
   {
    "duration": 62,
    "start_time": "2024-10-07T15:42:40.379Z"
   },
   {
    "duration": 51,
    "start_time": "2024-10-07T15:52:21.697Z"
   },
   {
    "duration": 45,
    "start_time": "2024-10-07T15:52:28.889Z"
   },
   {
    "duration": 64,
    "start_time": "2024-10-07T15:52:49.603Z"
   },
   {
    "duration": 46,
    "start_time": "2024-10-07T15:53:10.531Z"
   },
   {
    "duration": 44,
    "start_time": "2024-10-07T15:53:41.440Z"
   },
   {
    "duration": 4,
    "start_time": "2024-10-07T15:53:55.034Z"
   },
   {
    "duration": 175,
    "start_time": "2024-10-07T15:54:21.745Z"
   },
   {
    "duration": 6,
    "start_time": "2024-10-07T15:55:09.148Z"
   },
   {
    "duration": 1349,
    "start_time": "2024-10-07T15:56:06.476Z"
   },
   {
    "duration": 798,
    "start_time": "2024-10-07T15:56:37.754Z"
   },
   {
    "duration": 116,
    "start_time": "2024-10-07T15:58:18.940Z"
   },
   {
    "duration": 935,
    "start_time": "2024-10-07T15:58:56.307Z"
   },
   {
    "duration": 197,
    "start_time": "2024-10-07T15:59:28.684Z"
   },
   {
    "duration": 114,
    "start_time": "2024-10-07T15:59:46.640Z"
   },
   {
    "duration": 137,
    "start_time": "2024-10-07T16:02:23.283Z"
   },
   {
    "duration": 530,
    "start_time": "2024-10-07T16:03:24.419Z"
   },
   {
    "duration": 20,
    "start_time": "2024-10-07T16:03:50.363Z"
   },
   {
    "duration": 45,
    "start_time": "2024-10-07T16:04:43.851Z"
   },
   {
    "duration": 19,
    "start_time": "2024-10-07T16:07:15.402Z"
   },
   {
    "duration": 20,
    "start_time": "2024-10-07T16:14:25.003Z"
   },
   {
    "duration": 132,
    "start_time": "2024-10-07T16:14:48.483Z"
   },
   {
    "duration": 130,
    "start_time": "2024-10-07T16:15:31.474Z"
   },
   {
    "duration": 130,
    "start_time": "2024-10-07T16:15:43.294Z"
   },
   {
    "duration": 418,
    "start_time": "2024-10-07T16:16:27.914Z"
   },
   {
    "duration": 860,
    "start_time": "2024-10-07T16:16:46.589Z"
   },
   {
    "duration": 381,
    "start_time": "2024-10-07T16:16:47.451Z"
   },
   {
    "duration": 129,
    "start_time": "2024-10-07T16:16:47.834Z"
   },
   {
    "duration": 9,
    "start_time": "2024-10-07T16:16:47.966Z"
   },
   {
    "duration": 32,
    "start_time": "2024-10-07T16:16:47.979Z"
   },
   {
    "duration": 162,
    "start_time": "2024-10-07T16:16:48.013Z"
   },
   {
    "duration": 109,
    "start_time": "2024-10-07T16:16:48.177Z"
   },
   {
    "duration": 168,
    "start_time": "2024-10-07T16:16:48.288Z"
   },
   {
    "duration": 103,
    "start_time": "2024-10-07T16:16:48.458Z"
   },
   {
    "duration": 64,
    "start_time": "2024-10-07T16:16:48.563Z"
   },
   {
    "duration": 4,
    "start_time": "2024-10-07T16:16:48.630Z"
   },
   {
    "duration": 5,
    "start_time": "2024-10-07T16:16:48.635Z"
   },
   {
    "duration": 13,
    "start_time": "2024-10-07T16:16:48.641Z"
   },
   {
    "duration": 74,
    "start_time": "2024-10-07T16:16:48.656Z"
   },
   {
    "duration": 4,
    "start_time": "2024-10-07T16:16:48.731Z"
   },
   {
    "duration": 1357,
    "start_time": "2024-10-07T16:16:48.738Z"
   },
   {
    "duration": 356,
    "start_time": "2024-10-07T16:16:50.097Z"
   },
   {
    "duration": 680,
    "start_time": "2024-10-07T16:16:50.455Z"
   },
   {
    "duration": 596,
    "start_time": "2024-10-07T16:17:55.589Z"
   },
   {
    "duration": 612,
    "start_time": "2024-10-07T16:19:28.302Z"
   },
   {
    "duration": 259,
    "start_time": "2024-10-07T16:19:32.864Z"
   },
   {
    "duration": 693,
    "start_time": "2024-10-07T16:20:24.017Z"
   },
   {
    "duration": 279,
    "start_time": "2024-10-07T16:23:07.593Z"
   }
  ],
  "kernelspec": {
   "display_name": "Python 3 (ipykernel)",
   "language": "python",
   "name": "python3"
  },
  "language_info": {
   "codemirror_mode": {
    "name": "ipython",
    "version": 3
   },
   "file_extension": ".py",
   "mimetype": "text/x-python",
   "name": "python",
   "nbconvert_exporter": "python",
   "pygments_lexer": "ipython3",
   "version": "3.9.19"
  },
  "toc": {
   "base_numbering": 1,
   "nav_menu": {},
   "number_sections": true,
   "sideBar": true,
   "skip_h1_title": true,
   "title_cell": "Table of Contents",
   "title_sidebar": "Contents",
   "toc_cell": false,
   "toc_position": {},
   "toc_section_display": true,
   "toc_window_display": false
  }
 },
 "nbformat": 4,
 "nbformat_minor": 2
}
